{
  "nbformat": 4,
  "nbformat_minor": 0,
  "metadata": {
    "colab": {
      "provenance": [],
      "authorship_tag": "ABX9TyNWcVzj5wuiB5E0XSEilSGJ",
      "include_colab_link": true
    },
    "kernelspec": {
      "name": "python3",
      "display_name": "Python 3"
    },
    "language_info": {
      "name": "python"
    }
  },
  "cells": [
    {
      "cell_type": "markdown",
      "metadata": {
        "id": "view-in-github",
        "colab_type": "text"
      },
      "source": [
        "<a href=\"https://colab.research.google.com/github/Hyunalee9/2025Python/blob/main/python08.ipynb\" target=\"_parent\"><img src=\"https://colab.research.google.com/assets/colab-badge.svg\" alt=\"Open In Colab\"/></a>"
      ]
    },
    {
      "cell_type": "code",
      "execution_count": 4,
      "metadata": {
        "id": "AsYSgXSsmZWr"
      },
      "outputs": [],
      "source": [
        "import random # 난수 생성 함수(들)을 사용하기 위해서(random.randrange,...)\n",
        "import math # 수학 함수(들)을 사용하기 위해서(math.sqrt, ...)"
      ]
    },
    {
      "cell_type": "markdown",
      "source": [
        "# Ex 1."
      ],
      "metadata": {
        "id": "DD2_KBdmmevG"
      }
    },
    {
      "cell_type": "markdown",
      "source": [
        "아래의 리스트 fruits에 저장된 문자열들의 길이를 저장하는 리스트를 만들고 출력하세요."
      ],
      "metadata": {
        "id": "LhecO4LbmkDf"
      }
    },
    {
      "cell_type": "code",
      "source": [
        "fruits = ['apple', 'banana', 'cherry', 'durian', 'watermellon']"
      ],
      "metadata": {
        "id": "Q69wWH7Tm3tO"
      },
      "execution_count": null,
      "outputs": []
    },
    {
      "cell_type": "code",
      "source": [
        "# fruits 에 저장된 문자열들의 길이 저장하기\n",
        "lengths = [len(x) for x in fruits]\n",
        "print(lengths)"
      ],
      "metadata": {
        "colab": {
          "base_uri": "https://localhost:8080/"
        },
        "id": "n3nqasKcnqfX",
        "outputId": "2f6edb80-d477-4910-ee25-7ddd7f4e948b"
      },
      "execution_count": null,
      "outputs": [
        {
          "output_type": "stream",
          "name": "stdout",
          "text": [
            "[5, 6, 6, 6, 11]\n"
          ]
        }
      ]
    },
    {
      "cell_type": "markdown",
      "source": [
        "# Ex 2."
      ],
      "metadata": {
        "id": "8_lFiyMOnET2"
      }
    },
    {
      "cell_type": "markdown",
      "source": [
        "* 1 이상 4 이하 범위의 난수 10개를 저장하는 리스트 gender_codes를 만들고 출력하세요.\n",
        "* gender_codes의 값이 1 또는 3이면 'Male', 2 또는 4이면 'Female'을 저장하는 리스트 genders를 만들고 출력하세요."
      ],
      "metadata": {
        "id": "WUQnkSo4nGRH"
      }
    },
    {
      "cell_type": "code",
      "source": [
        "# gender_codes 만들기\n",
        "gender_codes = [random.randrange(1,5) for _ in range(10)]\n",
        "\n",
        "# gender_codes 출력하기\n",
        "print(gender_codes)\n",
        "\n",
        "# 값이 1 또는 3 -> Male , 2 또는 4 -> Female 저장하는 genders 만들기\n",
        "genders = ['Male' if x == 1 or x == 3 else 'Female' for x in gender_codes]\n",
        "\n",
        "# genders 출력하기\n",
        "print(genders)"
      ],
      "metadata": {
        "colab": {
          "base_uri": "https://localhost:8080/"
        },
        "id": "c0G_5S8An-su",
        "outputId": "dac70d3d-2978-4868-999a-1e566c0d5e2d"
      },
      "execution_count": null,
      "outputs": [
        {
          "output_type": "stream",
          "name": "stdout",
          "text": [
            "[2, 4, 2, 1, 1, 4, 1, 4, 1, 4]\n",
            "['Female', 'Female', 'Female', 'Male', 'Male', 'Female', 'Male', 'Female', 'Male', 'Female']\n"
          ]
        }
      ]
    },
    {
      "cell_type": "markdown",
      "source": [
        "# Ex 3."
      ],
      "metadata": {
        "id": "2_UsrrDUn-9O"
      }
    },
    {
      "cell_type": "markdown",
      "source": [
        "아래의 두 2차원 리스트 m1, m2에서 같은 인덱스에 있는 원소들끼리의 덧셈 결과를 저장하는 리스트를 만들고 출력하세요."
      ],
      "metadata": {
        "id": "xFqVO5hroFXG"
      }
    },
    {
      "cell_type": "code",
      "source": [
        "m1 = [\n",
        "    [1, 2, 3],\n",
        "    [4, 5, 6]\n",
        "]\n",
        "m2 = [\n",
        "    [1, 1, 1],\n",
        "    [2, 2, 2]\n",
        "]"
      ],
      "metadata": {
        "id": "GXvRMwtGomvu"
      },
      "execution_count": null,
      "outputs": []
    },
    {
      "cell_type": "code",
      "source": [
        "#1\n",
        "result = []\n",
        "for row1, row2 in zip(m1, m2):\n",
        "    row_plus = []\n",
        "    for x, y in zip(row1, row2):\n",
        "        row_plus.append(x + y)\n",
        "    result.append(row_plus)\n",
        "\n",
        "print(result)"
      ],
      "metadata": {
        "colab": {
          "base_uri": "https://localhost:8080/"
        },
        "id": "-EDv6KTgviq6",
        "outputId": "bfa85145-92a2-48ea-dbb8-dcc8bcaecc8c"
      },
      "execution_count": null,
      "outputs": [
        {
          "output_type": "stream",
          "name": "stdout",
          "text": [
            "[[2, 3, 4], [6, 7, 8]]\n"
          ]
        }
      ]
    },
    {
      "cell_type": "code",
      "source": [
        "# List Comprehension\n",
        "result2 = [[x + y for x, y in zip(row1, row2)] for row1, row2 in zip(m1, m2)]\n",
        "print(result2)"
      ],
      "metadata": {
        "colab": {
          "base_uri": "https://localhost:8080/"
        },
        "id": "XX7pjhP-Uu71",
        "outputId": "131ed683-5717-4eff-c2d7-d8ea3362ba46"
      },
      "execution_count": null,
      "outputs": [
        {
          "output_type": "stream",
          "name": "stdout",
          "text": [
            "[[2, 3, 4], [6, 7, 8]]\n"
          ]
        }
      ]
    },
    {
      "cell_type": "markdown",
      "source": [
        "# Ex 4."
      ],
      "metadata": {
        "id": "5u1RBoAPyW9Q"
      }
    },
    {
      "cell_type": "markdown",
      "source": [
        "1 이상 10 이하의 정수 5개를 저장하는 리스트 scores를 만들고 출력하세요."
      ],
      "metadata": {
        "id": "OU4wMt5AyagA"
      }
    },
    {
      "cell_type": "code",
      "source": [
        "num_of_items = 5"
      ],
      "metadata": {
        "id": "bsh9zTlQycEg"
      },
      "execution_count": 2,
      "outputs": []
    },
    {
      "cell_type": "code",
      "source": [
        "# scores 만들기\n",
        "scores = [random.randrange(1,11) for _ in range(num_of_items)] # num_of_items가 주어져있다. 활용하자.\n",
        "\n",
        "# 출력하기\n",
        "print(scores)"
      ],
      "metadata": {
        "colab": {
          "base_uri": "https://localhost:8080/"
        },
        "id": "-KpWAFVz1Otn",
        "outputId": "dcc8dde9-1f17-42be-8ca8-503f508fd36c"
      },
      "execution_count": 5,
      "outputs": [
        {
          "output_type": "stream",
          "name": "stdout",
          "text": [
            "[7, 8, 6, 2, 6]\n"
          ]
        }
      ]
    },
    {
      "cell_type": "markdown",
      "source": [
        "# Ex 5."
      ],
      "metadata": {
        "id": "XGecv43uyetR"
      }
    },
    {
      "cell_type": "markdown",
      "source": [
        "문제 4에서 만든 리스트 scores의 원소들의 합계를 계산하고 출력하세요."
      ],
      "metadata": {
        "id": "9efErFawygyY"
      }
    },
    {
      "cell_type": "code",
      "source": [
        "# 합계\n",
        "# 내장 함수 이용\n",
        "print(f' scores = {scores}, 합계 : {sum(scores)}')\n",
        "\n",
        "# 반복문 이용\n",
        "total = 0\n",
        "for x in scores:\n",
        "    total += x\n",
        "print(f' scores = {scores}, 합계 : {total}')"
      ],
      "metadata": {
        "colab": {
          "base_uri": "https://localhost:8080/"
        },
        "id": "HWnJjUYF1jE_",
        "outputId": "d3891e48-718c-424e-91d4-ff80479e97db"
      },
      "execution_count": 6,
      "outputs": [
        {
          "output_type": "stream",
          "name": "stdout",
          "text": [
            " scores = [7, 8, 6, 2, 6], 합계 : 29\n",
            " scores = [7, 8, 6, 2, 6], 합계 : 29\n"
          ]
        }
      ]
    },
    {
      "cell_type": "markdown",
      "source": [
        "# Ex 6."
      ],
      "metadata": {
        "id": "LJQfmyRIyjuA"
      }
    },
    {
      "cell_type": "markdown",
      "source": [
        "문제 4에서 만든 리스트 scores의 원소들의 평균을 계산하고 출력하세요."
      ],
      "metadata": {
        "id": "p-tevRk1yn4w"
      }
    },
    {
      "cell_type": "code",
      "source": [
        "# 평균\n",
        "mean = sum(scores)/ num_of_items\n",
        "print(f' scores = {scores}, 평균 : {mean} ')"
      ],
      "metadata": {
        "colab": {
          "base_uri": "https://localhost:8080/"
        },
        "id": "Eo6BkJrf2M0n",
        "outputId": "194906db-8886-44e8-c4f1-233244c8e364"
      },
      "execution_count": 7,
      "outputs": [
        {
          "output_type": "stream",
          "name": "stdout",
          "text": [
            " scores = [7, 8, 6, 2, 6], 평균 : 5.8 \n"
          ]
        }
      ]
    },
    {
      "cell_type": "markdown",
      "source": [
        "# Ex 7."
      ],
      "metadata": {
        "id": "OwBQSypqypWZ"
      }
    },
    {
      "cell_type": "markdown",
      "source": [
        "문제 4에서 만든 리스트 scores의 원소들의 분산을 계산하고 출력하세요."
      ],
      "metadata": {
        "id": "OqGv0DZiyrpI"
      }
    },
    {
      "cell_type": "markdown",
      "source": [
        "생각해보기\n",
        "* scores 의 각 요소는 독립 시행으로 추출됨"
      ],
      "metadata": {
        "id": "AXrC8n4XAP7r"
      }
    },
    {
      "cell_type": "code",
      "source": [
        "# 편차 제곱 리스트\n",
        "squared_deviation = [(x - mean)**2 for x in scores]\n",
        "\n",
        "# 편차 제곱 합\n",
        "sum_of_squared_deviations = sum(squared_deviation)\n",
        "\n",
        "# 분산\n",
        "variance = sum_of_squared_deviations / (num_of_items - 1)\n",
        "\n",
        "print(f'편차 제곱 리스트  = {squared_deviation}, 편차 제곱 합 : {sum_of_squared_deviations}')\n",
        "print(f'분산 = {variance}')"
      ],
      "metadata": {
        "colab": {
          "base_uri": "https://localhost:8080/"
        },
        "id": "-A9R0KwE3EUH",
        "outputId": "c9e6a2b7-ed7b-4fbb-882f-09a738d7f16e"
      },
      "execution_count": 8,
      "outputs": [
        {
          "output_type": "stream",
          "name": "stdout",
          "text": [
            "편차 제곱 리스트  = [1.4400000000000004, 4.840000000000001, 0.04000000000000007, 14.44, 0.04000000000000007], 편차 제곱 합 : 20.8\n",
            "분산 = 5.2\n"
          ]
        }
      ]
    },
    {
      "cell_type": "markdown",
      "source": [
        "# Ex 8."
      ],
      "metadata": {
        "id": "VJKyea5aytdI"
      }
    },
    {
      "cell_type": "markdown",
      "source": [
        "문제 4에서 만든 리스트 scores의 원소들의 표준편차를 계산하고 출력하세요."
      ],
      "metadata": {
        "id": "jk24vZg-yvWA"
      }
    },
    {
      "cell_type": "code",
      "source": [
        "# 표준편차는 분산에 루트를 씌운 값이다.\n",
        "std = math.sqrt(variance)\n",
        "print(f' 표준편차 : {std}')"
      ],
      "metadata": {
        "colab": {
          "base_uri": "https://localhost:8080/"
        },
        "id": "I0LHHdhd6tlE",
        "outputId": "a7b005df-4e78-4d79-fe21-a50a234876f9"
      },
      "execution_count": 9,
      "outputs": [
        {
          "output_type": "stream",
          "name": "stdout",
          "text": [
            " 표준편차 : 2.280350850198276\n"
          ]
        }
      ]
    },
    {
      "cell_type": "markdown",
      "source": [
        "# Ex 9."
      ],
      "metadata": {
        "id": "3Ju5YXnVywgZ"
      }
    },
    {
      "cell_type": "markdown",
      "source": [
        "문제 4에서 만든 리스트 scores에서 최댓값을 찾고 출력하세요."
      ],
      "metadata": {
        "id": "ZTPV0DLjyyYA"
      }
    },
    {
      "cell_type": "code",
      "source": [
        "# 내장 함수 이용하기\n",
        "print(f'최댓값 : {max(scores)}')\n",
        "\n",
        "# 최댓값을 직접 한번 찾아보자\n",
        "# scores 리스트의 첫번째 값을 최댓값으로 우선 두고, 다른 원소 값들과 차례대로 비교해서 제일 큰 값을 출력\n",
        "\n",
        "max_of_scores = scores[0]\n",
        "for x in scores:\n",
        "    if x > max_of_scores :\n",
        "        max_of_scores = x\n",
        "\n",
        "print(f'최댓값 : {max_of_scores}')"
      ],
      "metadata": {
        "colab": {
          "base_uri": "https://localhost:8080/"
        },
        "id": "WGXYtCdM7TbU",
        "outputId": "52aca65d-ea6c-4db0-c994-5366874c1cb7"
      },
      "execution_count": 10,
      "outputs": [
        {
          "output_type": "stream",
          "name": "stdout",
          "text": [
            "최댓값 : 8\n",
            "최댓값 : 8\n"
          ]
        }
      ]
    },
    {
      "cell_type": "markdown",
      "source": [
        "# Ex 10."
      ],
      "metadata": {
        "id": "DT0CgRB9yz9Q"
      }
    },
    {
      "cell_type": "markdown",
      "source": [
        "문제 4에서 만든 리스트 scores에서 최솟값을 찾고 출력하세요."
      ],
      "metadata": {
        "id": "1BL7IRiiy2qQ"
      }
    },
    {
      "cell_type": "code",
      "source": [
        "# 내장 함수 이용하기\n",
        "print(f'최솟값 : {min(scores)}')\n",
        "\n",
        "#\n",
        "min_of_scores = scores[0]\n",
        "for x in scores:\n",
        "    if x < min_of_scores :\n",
        "        min_of_scores = x\n",
        "print(f'최솟값 : {min_of_scores}')"
      ],
      "metadata": {
        "colab": {
          "base_uri": "https://localhost:8080/"
        },
        "id": "HvVnNPYf7shs",
        "outputId": "d5abfde9-03ba-4ce5-af58-051737f3e4f0"
      },
      "execution_count": 11,
      "outputs": [
        {
          "output_type": "stream",
          "name": "stdout",
          "text": [
            "최솟값 : 2\n",
            "최솟값 : 2\n"
          ]
        }
      ]
    },
    {
      "cell_type": "markdown",
      "source": [
        "참고\n",
        "\n",
        "* 리스트의 모든 원소의 합계\n",
        "$$\n",
        "sum = \\sum_{i = 1}^{n} x_i = x_1 + x_2 + ... + x_n\n",
        "$$\n",
        "* 리스트의 모든 원소의 평균(mean)\n",
        "$$\n",
        "\\bar{x} = \\frac{1}{n} \\sum_{i = 1}^{n} x_i\n",
        "$$\n",
        "\n",
        "* 리스트의 모든 원소의 분산(variance)\n",
        "$$\n",
        "var = \\frac{1}{n - 1} \\sum_{i = 1}^{n} (x_i - \\bar{x})^2\n",
        "$$\n",
        "\n",
        "* 리스트의 모든 원소의 표준편차(standard deviation)\n",
        "$$\n",
        " std = \\sqrt{var}\n",
        "    = \\sqrt{\\frac{1}{n - 1} \\sum_{i = 1}^{n} (x_i - \\bar{x})^2}\n",
        "$$"
      ],
      "metadata": {
        "id": "H7dOGpKK7mV8"
      }
    }
  ]
}
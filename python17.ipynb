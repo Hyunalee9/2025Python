{
  "nbformat": 4,
  "nbformat_minor": 0,
  "metadata": {
    "colab": {
      "provenance": [],
      "mount_file_id": "1QY_X4JOYWefF2lGdbPIoQxejbJ6GUEUb",
      "authorship_tag": "ABX9TyOj1ILnzveLKt+WyGukKIT6",
      "include_colab_link": true
    },
    "kernelspec": {
      "name": "python3",
      "display_name": "Python 3"
    },
    "language_info": {
      "name": "python"
    }
  },
  "cells": [
    {
      "cell_type": "markdown",
      "metadata": {
        "id": "view-in-github",
        "colab_type": "text"
      },
      "source": [
        "<a href=\"https://colab.research.google.com/github/Hyunalee9/2025Python/blob/main/python17.ipynb\" target=\"_parent\"><img src=\"https://colab.research.google.com/assets/colab-badge.svg\" alt=\"Open In Colab\"/></a>"
      ]
    },
    {
      "cell_type": "code",
      "execution_count": 52,
      "metadata": {
        "id": "ZPFLQRJRakgn"
      },
      "outputs": [],
      "source": [
        "file_path = '/content/drive/MyDrive/Colab Notebooks/exam.csv'"
      ]
    },
    {
      "cell_type": "markdown",
      "source": [
        "1. exam.csv 파일을 open\n",
        "2. 파일의 첫번째 줄은 컬럼 이름들이기 때문에, 첫번째 줄은 읽고 무시.\n",
        "3. 파일의 두번째 줄부터 파일 끝(EDF)까지 4번 내용을 반복\n",
        "4. 각 줄에서 읽은 내용을 쉼표(,)로 분리한 리스트를 빈 리스트에 append\n",
        "5. 4번에서 만들어진 2차원 리스트는 문자열들을 저장하고 있는 리스트이기 때문에 리스트의 모든 값들을 함수(int)로 변환"
      ],
      "metadata": {
        "id": "Ckst_YXDetlY"
      }
    },
    {
      "cell_type": "code",
      "source": [
        "with open(file_path) as f:\n",
        "    cnt = 0\n",
        "    exam = []\n",
        "    for line in f:\n",
        "        if cnt == 0:\n",
        "            cnt += 1\n",
        "            pass\n",
        "        else:\n",
        "            element = line.strip().split(',')\n",
        "            str_to_int = list(map(int,element))\n",
        "            exam.append(str_to_int)\n",
        "\n",
        "print(exam)"
      ],
      "metadata": {
        "colab": {
          "base_uri": "https://localhost:8080/"
        },
        "id": "KeuINQlofLKx",
        "outputId": "31c5b404-ae6d-4381-92d3-4fe577049e51"
      },
      "execution_count": 53,
      "outputs": [
        {
          "output_type": "stream",
          "name": "stdout",
          "text": [
            "[[1, 1, 50, 98, 50], [2, 1, 60, 97, 60], [3, 1, 45, 86, 78], [4, 1, 30, 98, 58], [5, 2, 25, 80, 65], [6, 2, 50, 89, 98], [7, 2, 80, 90, 45], [8, 2, 90, 78, 25], [9, 3, 20, 98, 15], [10, 3, 50, 98, 45], [11, 3, 65, 65, 65], [12, 3, 45, 85, 32], [13, 4, 46, 98, 65], [14, 4, 48, 87, 12], [15, 4, 75, 56, 78], [16, 4, 58, 98, 65], [17, 5, 65, 68, 98], [18, 5, 80, 78, 90], [19, 5, 89, 68, 87], [20, 5, 78, 83, 58]]\n"
          ]
        }
      ]
    },
    {
      "cell_type": "markdown",
      "source": [
        "6. 수학 함수들로만 이루어진 1차원 리스트를 만듦"
      ],
      "metadata": {
        "id": "lSAGsI8rmKqE"
      }
    },
    {
      "cell_type": "code",
      "source": [
        "math_list = [row[2] for row in exam]\n",
        "print(math_list)"
      ],
      "metadata": {
        "colab": {
          "base_uri": "https://localhost:8080/"
        },
        "id": "i4ZfbWz7mFMU",
        "outputId": "ddb2862f-33f2-4d3b-ae25-5f4a6eff202d"
      },
      "execution_count": 54,
      "outputs": [
        {
          "output_type": "stream",
          "name": "stdout",
          "text": [
            "[50, 60, 45, 30, 25, 50, 80, 90, 20, 50, 65, 45, 46, 48, 75, 58, 65, 80, 89, 78]\n"
          ]
        }
      ]
    },
    {
      "cell_type": "markdown",
      "source": [
        "7. 수학 점수의 최댓값, 최솟값, 평균 출력."
      ],
      "metadata": {
        "id": "8p51UNQVmpGM"
      }
    },
    {
      "cell_type": "code",
      "source": [
        "# 학생 수\n",
        "len_of_math = len(math_list)\n",
        "\n",
        "# 수학 점수 최댓값\n",
        "max_of_math = max(math_list)\n",
        "\n",
        "# 수학 점수 최솟값\n",
        "min_of_math = min(math_list)\n",
        "\n",
        "# 수학 점수 평균\n",
        "mean_of_math = sum(math_list) / len_of_math\n",
        "\n",
        "print(f'수학 점수의 최댓값: {max_of_math}, 최솟값 : {min_of_math} , 평균: {mean_of_math}')"
      ],
      "metadata": {
        "colab": {
          "base_uri": "https://localhost:8080/"
        },
        "id": "4CDMYCNWmtiz",
        "outputId": "afcdde40-2f7f-4f27-bbd6-c0ce437cdd63"
      },
      "execution_count": 55,
      "outputs": [
        {
          "output_type": "stream",
          "name": "stdout",
          "text": [
            "수학 점수의 최댓값: 90, 최솟값 : 20 , 평균: 57.45\n"
          ]
        }
      ]
    },
    {
      "cell_type": "markdown",
      "source": [
        "8. 1반 학생들의 수학 점수 총점, 평균, 최댓값, 최솟값 출력"
      ],
      "metadata": {
        "id": "mndJFXdOng9s"
      }
    },
    {
      "cell_type": "code",
      "source": [
        "# 1반 학생들\n",
        "class1 = [row[2] for row in exam if row[1]== 1]\n",
        "\n",
        "# 1반 학생수\n",
        "len_of_class1 = len(class1)\n",
        "\n",
        "# 1반 학생 수학 점수 총점\n",
        "total = sum(class1)\n",
        "\n",
        "# 평균\n",
        "mean = total / len_of_class1\n",
        "\n",
        "# 최댓값\n",
        "max_of_class1 = max(class1)\n",
        "\n",
        "#최솟값\n",
        "min_of_class1 = min(class1)\n",
        "\n",
        "print(f'1반 학생들의 수학 점수 총점: {total}점, 평균: {mean}, 최댓값: {max_of_class1}, 최솟값: {min_of_class1}')"
      ],
      "metadata": {
        "colab": {
          "base_uri": "https://localhost:8080/"
        },
        "id": "QTIdUEulno0T",
        "outputId": "0cd35f1c-1965-447e-8125-8dc5ae5b882f"
      },
      "execution_count": 56,
      "outputs": [
        {
          "output_type": "stream",
          "name": "stdout",
          "text": [
            "1반 학생들의 수학 점수 총점: 185점, 평균: 46.25, 최댓값: 60, 최솟값: 30\n"
          ]
        }
      ]
    }
  ]
}